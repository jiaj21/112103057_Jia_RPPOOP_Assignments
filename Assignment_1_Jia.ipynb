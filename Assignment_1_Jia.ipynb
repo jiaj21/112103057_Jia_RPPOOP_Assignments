{
 "cells": [
  {
   "cell_type": "code",
   "execution_count": 1,
   "id": "f22c4fa3",
   "metadata": {},
   "outputs": [
    {
     "name": "stdout",
     "output_type": "stream",
     "text": [
      "Length of rectangle is  5  Breadth of rectangle is  4\n",
      "area of rectangle is :  20\n",
      "perimeter of rectangle is:  18\n",
      "Length of rectangle is  5  Breadth of rectangle is  4\n"
     ]
    }
   ],
   "source": [
    "class rectangle:\n",
    "   \n",
    "    def __init__(self,width,length):\n",
    "        self.length=length\n",
    "        self.width=width\n",
    "    def area(self):\n",
    "        area=self.width*self.length\n",
    "        print(\"area of rectangle is : \",area)\n",
    "    def perimeter(self):\n",
    "        perimeter=2*(self.length+self.width)\n",
    "        print(\"perimeter of rectangle is: \",perimeter)\n",
    "    def change_dimensions(self,l,b):\n",
    "        self.width=b\n",
    "        self.length=l\n",
    "    def report_dimensions(self):\n",
    "       return self.length,self.width\n",
    "        \n",
    "rect1=rectangle(4,5)\n",
    "a,b=rect1.report_dimensions()\n",
    "print(\"Length of rectangle is \",a,\" Breadth of rectangle is \",b)\n",
    "rect1.area()\n",
    "rect1.perimeter()\n",
    "rect1.change_dimensions(10,12)\n",
    "rect1.report_dimensions()\n",
    "print(\"Length of rectangle is \",a,\" Breadth of rectangle is \",b)\n"
   ]
  },
  {
   "cell_type": "code",
   "execution_count": null,
   "id": "e4a3c564",
   "metadata": {},
   "outputs": [],
   "source": []
  }
 ],
 "metadata": {
  "kernelspec": {
   "display_name": "Python 3 (ipykernel)",
   "language": "python",
   "name": "python3"
  },
  "language_info": {
   "codemirror_mode": {
    "name": "ipython",
    "version": 3
   },
   "file_extension": ".py",
   "mimetype": "text/x-python",
   "name": "python",
   "nbconvert_exporter": "python",
   "pygments_lexer": "ipython3",
   "version": "3.9.13"
  }
 },
 "nbformat": 4,
 "nbformat_minor": 5
}
