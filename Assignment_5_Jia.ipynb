{
 "cells": [
  {
   "cell_type": "code",
   "execution_count": 1,
   "id": "4c5927cf",
   "metadata": {},
   "outputs": [],
   "source": [
    "import tkinter as tk\n",
    "\n",
    "window = tk.Tk()\n",
    "\n",
    "window.title(\"Labels\")\n",
    "label1 = tk.Label(window, text=\"Label\", bg=\"red\", fg=\"white\")\n",
    "label1.pack()\n",
    "label2 = tk.Label(window, text=\"Label\", bg=\"green\", fg=\"white\")\n",
    "label2.pack()\n",
    "window.mainloop()"
   ]
  },
  {
   "cell_type": "code",
   "execution_count": 5,
   "id": "b85b40cf",
   "metadata": {},
   "outputs": [],
   "source": [
    "from  tkinter import *\n",
    "\n",
    "def nop():\n",
    "   filewin = Toplevel(root)\n",
    "   button = Button(filewin, text=\"Do nothing button\")\n",
    "   button.pack()\n",
    "   \n",
    "root = Tk()\n",
    "menubar = Menu(root)\n",
    "filemenu = Menu(menubar, tearoff=0)\n",
    "filemenu.add_command(label=\"New\", command=nop)\n",
    "filemenu.add_command(label=\"Open\", command=nop)\n",
    "filemenu.add_command(label=\"Save\", command=nop)\n",
    "filemenu.add_command(label=\"Save as...\", command=nop)\n",
    "filemenu.add_command(label=\"Close\", command=nop)\n",
    "filemenu.add_separator()\n",
    "filemenu.add_command(label=\"Exit\", command=root.quit)\n",
    "\n",
    "menubar.add_cascade(label=\"File\", menu=filemenu)\n",
    "\n",
    "# Edit\n",
    "editmenu = Menu(menubar, tearoff=0)\n",
    "editmenu.add_command(label=\"Undo\", command=nop)\n",
    "\n",
    "editmenu.add_separator()\n",
    "\n",
    "editmenu.add_command(label=\"Cut\", command=nop)\n",
    "editmenu.add_command(label=\"Copy\", command=nop)\n",
    "editmenu.add_command(label=\"Paste\", command=nop)\n",
    "editmenu.add_command(label=\"Delete\", command=nop)\n",
    "editmenu.add_command(label=\"Select All\", command=nop)\n",
    "menubar.add_cascade(label=\"Edit\", menu=editmenu)\n",
    "\n",
    "root.config(menu=menubar)\n",
    "root.mainloop()"
   ]
  },
  {
   "cell_type": "code",
   "execution_count": null,
   "id": "72b0b844",
   "metadata": {},
   "outputs": [],
   "source": []
  }
 ],
 "metadata": {
  "kernelspec": {
   "display_name": "Python 3 (ipykernel)",
   "language": "python",
   "name": "python3"
  },
  "language_info": {
   "codemirror_mode": {
    "name": "ipython",
    "version": 3
   },
   "file_extension": ".py",
   "mimetype": "text/x-python",
   "name": "python",
   "nbconvert_exporter": "python",
   "pygments_lexer": "ipython3",
   "version": "3.9.13"
  }
 },
 "nbformat": 4,
 "nbformat_minor": 5
}
