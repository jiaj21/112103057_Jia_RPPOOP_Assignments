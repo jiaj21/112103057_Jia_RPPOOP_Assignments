{
 "cells": [
  {
   "cell_type": "code",
   "execution_count": 4,
   "id": "90321cc4",
   "metadata": {},
   "outputs": [
    {
     "name": "stdout",
     "output_type": "stream",
     "text": [
      "3\n",
      "Jia Johnson\n",
      "5\n",
      "6\n",
      "Barks\n",
      "meow\n"
     ]
    }
   ],
   "source": [
    "#polymorphism\n",
    "\n",
    "# operator overloading\n",
    "print(1+2)\n",
    "print(\"Jia\"+' '+\"Johnson\")\n",
    "\n",
    "# method overloading\n",
    "def add(a,b,c = 0):\n",
    "    return a+b+c\n",
    "\n",
    "print(add(2, 3))\n",
    "print(add(1,2,3)) \n",
    "\n",
    "# method overriding\n",
    "class Animal():\n",
    "    def speaks(self):\n",
    "        pass\n",
    "\n",
    "class Dog(Animal):\n",
    "    def speaks(self):\n",
    "        print(\"Barks\")\n",
    "\n",
    "class Cat(Animal):\n",
    "    def speaks(self):\n",
    "        print(\"meow\")\n",
    "        \n",
    "d=Dog()\n",
    "d.speaks()\n",
    "c=Cat()\n",
    "c.speaks()\n",
    "\n",
    "\n"
   ]
  },
  {
   "cell_type": "code",
   "execution_count": null,
   "id": "c215a179",
   "metadata": {},
   "outputs": [],
   "source": []
  }
 ],
 "metadata": {
  "kernelspec": {
   "display_name": "Python 3 (ipykernel)",
   "language": "python",
   "name": "python3"
  },
  "language_info": {
   "codemirror_mode": {
    "name": "ipython",
    "version": 3
   },
   "file_extension": ".py",
   "mimetype": "text/x-python",
   "name": "python",
   "nbconvert_exporter": "python",
   "pygments_lexer": "ipython3",
   "version": "3.9.13"
  }
 },
 "nbformat": 4,
 "nbformat_minor": 5
}
